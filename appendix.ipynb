{
 "metadata": {
  "language_info": {
   "codemirror_mode": {
    "name": "ipython",
    "version": 3
   },
   "file_extension": ".py",
   "mimetype": "text/x-python",
   "name": "python",
   "nbconvert_exporter": "python",
   "pygments_lexer": "ipython3",
   "version": "3.8.5"
  },
  "orig_nbformat": 2,
  "kernelspec": {
   "name": "python385jvsc74a57bd044a142605148a8cd64e4f37d26f8b6d1f7aff5b262ef8a695880eac948b86e6c",
   "display_name": "Python 3.8.5 64-bit ('matlib': conda)"
  }
 },
 "nbformat": 4,
 "nbformat_minor": 2,
 "cells": [
  {
   "source": [
    "# DATA CLEANING APPENDIX"
   ],
   "cell_type": "markdown",
   "metadata": {}
  },
  {
   "cell_type": "code",
   "execution_count": 1,
   "metadata": {},
   "outputs": [],
   "source": [
    "import pandas as pd\n",
    "import numpy as np\n",
    "import matplotlib.pyplot as plt\n",
    "from scipy import stats"
   ]
  },
  {
   "source": [
    "## Data for NYC Poverty 2013"
   ],
   "cell_type": "markdown",
   "metadata": {}
  },
  {
   "cell_type": "code",
   "execution_count": 2,
   "metadata": {},
   "outputs": [],
   "source": [
    "#reading in csv file\n",
    "raw_poverty = pd.read_csv('nycgov_poverty_2013_.csv')\n",
    "\n",
    "# preserving a raw copy of the poverty data\n",
    "poverty = raw_poverty.copy()\n",
    "\n",
    "# dropping all columns except the ones relevant to our data set: the housing unit identifier ('SERIALNO'), Race/Ethinicty ('Ethnicity'), NYC Borough ('BORO'), NYCgov Poverty Status ('NYCgov_POV_Stat')\n",
    "poverty = poverty[['SERIALNO', 'Ethnicity', 'Boro', 'NYCgov_Pov_Stat']]\n",
    "\n",
    "# renaming some columns\n",
    "poverty = poverty.rename({'SERIALNO':'identifier', 'Ethnicity':'ethnicity', 'Boro':'boro', 'NYCgov_Pov_Stat':'povstat'}, axis=1)\n",
    "\n",
    "# ethnicity filts\n",
    "filt1 = (poverty['ethnicity'] == 1)\n",
    "poverty.loc[filt1,'ethnicity'] = 'white'\n",
    "\n",
    "filt2 = (poverty['ethnicity'] == 2)\n",
    "poverty.loc[filt2,'ethnicity'] = 'black'\n",
    "\n",
    "filt3 = (poverty['ethnicity'] == 3)\n",
    "poverty.loc[filt3,'ethnicity'] = 'asian'\n",
    "\n",
    "filt4 = (poverty['ethnicity'] == 4)\n",
    "poverty.loc[filt4,'ethnicity'] = 'hispanic'\n",
    "\n",
    "filt5 = (poverty['ethnicity'] == 5)\n",
    "poverty.loc[filt5,'ethnicity'] = 'other'\n",
    "\n",
    "#boro filts\n",
    "filt6 = (poverty['boro'] == 1)\n",
    "poverty.loc[filt6,'boro'] = 'Bronx'\n",
    "\n",
    "filt7 = (poverty['boro'] == 2)\n",
    "poverty.loc[filt7,'boro'] = 'Brooklyn'\n",
    "\n",
    "filt8 = (poverty['boro'] == 3)\n",
    "poverty.loc[filt8,'boro'] = 'Manhattan'\n",
    "\n",
    "filt9 = (poverty['boro'] == 4)\n",
    "poverty.loc[filt9,'boro'] = 'Queens'\n",
    "\n",
    "filt10 = (poverty['boro'] == 5)\n",
    "poverty.loc[filt10,'boro'] = 'Staten Island'\n",
    "\n",
    "\n",
    "#change the 0 to mean to mean not in poverty as it was originally 2\n",
    "filt = (poverty['povstat'] == 2)\n",
    "poverty.loc[filt,'povstat'] = 0\n",
    "\n",
    "# poverty.head()\n"
   ]
  },
  {
   "source": [
    "### Explaining what each column means for the ORIGINAL poverty data (This has been altered):\n",
    "\n",
    "The SERIALNO column is a housing unit identifier determined by the serial number of each Census household in the survey. \n",
    "\n",
    "This is the key for each number in the Ethnicity column: \n",
    "* 1 Non-Hispanic White Individual ACS \n",
    "* 2 Non-Hispanic Black \n",
    "* 3 Non-Hispanic Asian \n",
    "* 4 Hispanic, Any Race \n",
    "* 5 Other Race/Ethnic Group\n",
    "\n",
    "This is the key for each number in the Boro column:\n",
    "* 1 Bronx  \n",
    "* 2 Brooklyn \n",
    "* 3 Manhattan \n",
    "* 4 Queens \n",
    "* 5 Staten Island\n",
    "\n",
    "The NYCgov_Pov_Stat column defines whether a respondent is in poverty (1) or not in poverty (2)"
   ],
   "cell_type": "markdown",
   "metadata": {}
  },
  {
   "source": [
    "## HIV Testing Locations"
   ],
   "cell_type": "markdown",
   "metadata": {}
  },
  {
   "cell_type": "code",
   "execution_count": 3,
   "metadata": {},
   "outputs": [
    {
     "output_type": "execute_result",
     "data": {
      "text/plain": [
       "                                           site_name        borough zip_code  \\\n",
       "0          Office of the Manhattan Borough President      MANHATTAN    10007   \n",
       "1                              Clinic - Lenox Avenue      MANHATTAN    10026   \n",
       "2                              HHC Gouverneur Health      MANHATTAN    10002   \n",
       "3                     Morrisania Chest Center Clinic          BRONX    10456   \n",
       "4                   BronxCare Fulton Family Medicine          BRONX    10456   \n",
       "5  Community Health Action of Staten Island- Main...  STATEN ISLAND    10301   \n",
       "\n",
       "   low_cost   free                address  \n",
       "0     False  False        1 Centre Street  \n",
       "1      True   True  115 West 116th Street  \n",
       "2      True   True     227 Madison Street  \n",
       "3     False   True     1309 Fulton Avenue  \n",
       "4     False  False     1276 Fulton Avenue  \n",
       "5     False  False          56 Bay Street  "
      ],
      "text/html": "<div>\n<style scoped>\n    .dataframe tbody tr th:only-of-type {\n        vertical-align: middle;\n    }\n\n    .dataframe tbody tr th {\n        vertical-align: top;\n    }\n\n    .dataframe thead th {\n        text-align: right;\n    }\n</style>\n<table border=\"1\" class=\"dataframe\">\n  <thead>\n    <tr style=\"text-align: right;\">\n      <th></th>\n      <th>site_name</th>\n      <th>borough</th>\n      <th>zip_code</th>\n      <th>low_cost</th>\n      <th>free</th>\n      <th>address</th>\n    </tr>\n  </thead>\n  <tbody>\n    <tr>\n      <th>0</th>\n      <td>Office of the Manhattan Borough President</td>\n      <td>MANHATTAN</td>\n      <td>10007</td>\n      <td>False</td>\n      <td>False</td>\n      <td>1 Centre Street</td>\n    </tr>\n    <tr>\n      <th>1</th>\n      <td>Clinic - Lenox Avenue</td>\n      <td>MANHATTAN</td>\n      <td>10026</td>\n      <td>True</td>\n      <td>True</td>\n      <td>115 West 116th Street</td>\n    </tr>\n    <tr>\n      <th>2</th>\n      <td>HHC Gouverneur Health</td>\n      <td>MANHATTAN</td>\n      <td>10002</td>\n      <td>True</td>\n      <td>True</td>\n      <td>227 Madison Street</td>\n    </tr>\n    <tr>\n      <th>3</th>\n      <td>Morrisania Chest Center Clinic</td>\n      <td>BRONX</td>\n      <td>10456</td>\n      <td>False</td>\n      <td>True</td>\n      <td>1309 Fulton Avenue</td>\n    </tr>\n    <tr>\n      <th>4</th>\n      <td>BronxCare Fulton Family Medicine</td>\n      <td>BRONX</td>\n      <td>10456</td>\n      <td>False</td>\n      <td>False</td>\n      <td>1276 Fulton Avenue</td>\n    </tr>\n    <tr>\n      <th>5</th>\n      <td>Community Health Action of Staten Island- Main...</td>\n      <td>STATEN ISLAND</td>\n      <td>10301</td>\n      <td>False</td>\n      <td>False</td>\n      <td>56 Bay Street</td>\n    </tr>\n  </tbody>\n</table>\n</div>"
     },
     "metadata": {},
     "execution_count": 3
    }
   ],
   "source": [
    "#reading testing location csv\n",
    "hiv_test_loc= pd.read_csv('hiv_testing_locations.csv')\n",
    "\n",
    "#changing all the boroughs to upper sincee QUEENS vs Queens appears in dataset\n",
    "hiv_test_loc [\"Borough\"] = hiv_test_loc[\"Borough\"].str.upper()\n",
    "\n",
    "#dropping columns like hours etc. If interested look at the raw csv on Github.\n",
    "clean_hiv_loc = hiv_test_loc[['Site Name', 'Borough', 'Zip Code', 'Low Cost', 'Free', 'Address']]\n",
    "## renaming the columns\n",
    "clean_hiv_loc = clean_hiv_loc.copy()\n",
    "clean_hiv_loc.rename(columns = {'Site Name':'site_name', 'Borough': 'borough', 'Zip Code': 'zip_code', 'Low Cost': 'low_cost','Free':'free', 'Address':'address'}, inplace = True) \n",
    "\n",
    "## this is the cleaned dataset with values dropped and grouped\n",
    "droppedna_cleaned = clean_hiv_loc.copy()\n",
    "droppedna_cleaned = droppedna_cleaned.dropna(subset=['zip_code'])\n",
    "droppedna_cleaned = droppedna_cleaned.dropna(subset=['address'])\n",
    "droppedna_cleaned = droppedna_cleaned.dropna(subset=['borough'])\n",
    "\n",
    "# Changing the borough from New York to Manhattan\n",
    "droppedna_cleaned.at[521, 'borough'] = 'MANHATTAN'\n",
    "droppedna_cleaned.head(6)\n",
    "\n",
    "\n"
   ]
  },
  {
   "source": [
    "## HIV Diagnoses by Neighborhood"
   ],
   "cell_type": "markdown",
   "metadata": {}
  },
  {
   "cell_type": "code",
   "execution_count": 4,
   "metadata": {},
   "outputs": [],
   "source": [
    "raw_hiv = pd.read_csv('hiv_aids_diagnoses.csv')\n",
    "\n",
    "new_cols = [name.lower() for name in raw_hiv.columns]\n",
    "new_cols = [name.replace(' ','_') for name in new_cols]\n",
    "raw_hiv.columns = new_cols\n",
    "\n",
    "# making a new copy of the data set to preserve a raw copy\n",
    "hiv = raw_hiv.copy()\n",
    "\n",
    "# dropped columns that are irrelevant to our research question\n",
    "hiv = hiv.drop(columns=['hiv_diagnoses_per_100,000_population', \n",
    "                        'total_number_of_concurrent_hiv/aids_diagnoses', \n",
    "                        'proportion_of_concurrent_hiv/aids_diagnoses_among_all_hiv_diagnoses', 'aids_diagnoses_per_100,000_population'])\n",
    "\n",
    "# changing the name of the UHF neighborhood column to make it easier to work with\n",
    "hiv = hiv.rename({'neighborhood_(u.h.f)':'uhf_neighborhood', 'total_number_of_hiv_diagnoses':'total_hiv', 'total_number_of_aids_diagnoses':'total_aids'}, axis=1)\n",
    "hiv.head()\n",
    "\n",
    "# dropping rows that have their neighborhood listed as 'unknown'\n",
    "hiv = hiv[hiv['uhf_neighborhood'] != 'Unknown']\n",
    "# hiv.astype({'total_hiv': 'int64'}).dtypes\n",
    "hiv = hiv[hiv['total_hiv'] != '*']\n",
    "# print(hiv.describe())\n",
    "# hiv.head()"
   ]
  },
  {
   "cell_type": "code",
   "execution_count": 5,
   "metadata": {},
   "outputs": [],
   "source": [
    " #replace the asterick because it was causing me problems\n",
    "hiv.replace('*', -1, inplace= True)\n",
    "\n",
    "#casting the object type column to int so I can sum them together\n",
    "hiv['total_aids'] = hiv['total_aids'].astype(int)\n",
    "hiv['total_hiv'] = hiv['total_hiv'].astype(int)\n",
    "hiv['year'] = hiv['year'].astype(str)\n",
    "hiv['uhf_neighborhood'] = hiv['uhf_neighborhood'].astype(str)\n",
    "\n",
    "#creating filters for dropping all the -1 \n",
    "drop_index_h = hiv[ hiv['total_hiv'] == -1 ].index\n",
    "drop_index_a = hiv[ hiv['total_aids'] == -1 ].index\n",
    "\n",
    "#dropping by using filters\n",
    "hiv.drop(drop_index_h, inplace = True)\n",
    "hiv.drop(drop_index_a, inplace = True)\n",
    "\n",
    "##making sure that it worked\n",
    "# grouped_hiv = hiv.groupby('year').total_hiv.sum()\n",
    "# grouped_hiv.head()"
   ]
  },
  {
   "source": [
    "## Condom Availability\n",
    "#### NOTE THIS DATA IS FROM MARCH 17th 2021 as the data is renewed DAILY"
   ],
   "cell_type": "markdown",
   "metadata": {}
  },
  {
   "cell_type": "code",
   "execution_count": 6,
   "metadata": {},
   "outputs": [],
   "source": [
    "ori_condom = pd.read_csv('nyc_condom_availability.csv')\n",
    "\n",
    "# preserving a copy of the raw condom availability data\n",
    "condom = ori_condom.copy()\n",
    "\n",
    "# only keeping columns that are relevant to our research question\n",
    "condom = condom[['Facility PK', 'FacilityName', 'Address', 'Borough', 'Zipcode', 'Condoms (Male)', 'FC2 (Female/Insertive Condoms)']]\n",
    "\n",
    "#renaming columns so they're easier to work with\n",
    "condom = condom.rename({'Facility PK':'identifier', 'FacilityName':'name', 'Address':'address', 'Borough':'boro', 'Zipcode':'zip', 'Condoms (Male)':'malecond', 'FC2 (Female/Insertive Condoms)':'femalecond'}, axis=1)\n",
    "\n",
    "# replacing the NaN for the borough of the 'C/O NYC FREE CONDOM' distribution site with the proper borough\n",
    "condom.loc[0, 'boro'] = 'Queens'\n",
    "\n",
    "# adding a proper zipcode for the sites that did not provide one\n",
    "condom.loc[condom['identifier'] == 113039632, 'zip'] = 10030\n",
    "condom.loc[condom['identifier'] ==113039503, 'zip'] = 10039\n",
    "condom.loc[condom['identifier']==113039855, 'zip'] = 11226\n",
    "condom.loc[condom['identifier']==113039591,'zip'] = 10026\n",
    "condom.loc[condom['identifier']==113039689, 'zip'] = 10024\n",
    "condom.loc[condom['identifier']==113039479, 'zip'] = 10030\n",
    "condom.loc[condom['identifier']==113039590, 'zip'] = 10039\n",
    "condom.loc[condom['identifier']== 113039585, 'zip'] = 11207\n",
    "condom.loc[condom['identifier']==113039612, 'zip'] = 10027\n",
    "\n",
    "# condom.head()"
   ]
  },
  {
   "source": [
    "### Explaining columns for the condom availability data:\n",
    "Facility PK is the autogenerated facility identification key from the Department of Health and Mental Hygiene.\n",
    "\n",
    "FacilityName is the name of the service facility.\n",
    "\n",
    "Address, Borough and Zipcode describe the location of the service facility.\n",
    "\n",
    "Condoms (Male) describes whether male columns are available at the service facility, and FC2 (Female/Insertive Condoms) describes whether female columns are available at the facility"
   ],
   "cell_type": "markdown",
   "metadata": {}
  },
  {
   "source": [
    "### NOTE: More data manipulation will be done in request/function calls to API when acquring geodata in final.ipynb\n",
    "- The decision was made to maintain the current data frame as the address are valid and current via Google Maps but Folium is less advance (but free) so modifications to address were made during the function call. \n",
    "    - The code modifiying locations from final.ipynb can be used to create a new dataframe and loop over that if desired."
   ],
   "cell_type": "markdown",
   "metadata": {}
  }
 ]
}